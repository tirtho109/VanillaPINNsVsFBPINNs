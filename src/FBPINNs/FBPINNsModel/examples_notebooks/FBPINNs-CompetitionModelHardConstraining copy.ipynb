{
 "cells": [
  {
   "cell_type": "markdown",
   "metadata": {},
   "source": [
    "### Competition Model\n",
    "\n",
    "$$u' = u(1 - a_1  u - a_2  v)$$\n",
    "$$v' = rv(1 -b_1 u - b_2 v)$$\n",
    "with $u_0 = 2$ and $v_0 = 1$"
   ]
  },
  {
   "cell_type": "markdown",
   "metadata": {},
   "source": [
    "##### Workflow Overview\n",
    "\n",
    "1. Define the **problem domain**, by using the `fbpinns.domains.RectangularDomainND` class\n",
    "2. Define the **ODE** to solve, and its **problem constraints**, by defining our own `fbpinns.problems.Problem` class\n",
    "3. Define the **domain decomposition** used by the FBPINN, by using the `fbpinns.decompositions.RectangularDecompositionND` class\n",
    "4. Define the **neural network** placed in each subdomain, by using the `fbpinns.networks.FCN` class\n",
    "5. Pass these classes and their initialisation values to a `fbpinns.constants.Constants` object\n",
    "6. Start the FBPINN training by instantiating a `fbpinns.trainer.FBPINNTrainer` using the `Constants` object.\n",
    "\n",
    "##### Step 1: Problem Domain"
   ]
  },
  {
   "cell_type": "code",
   "execution_count": 1,
   "metadata": {},
   "outputs": [],
   "source": [
    "import sys\n",
    "import os\n",
    "\n",
    "# Paths you want to add to sys.path\n",
    "paths_to_add = [\n",
    "    os.path.abspath(os.path.join('../..')),  \n",
    "    os.path.abspath(os.path.join('..'))  \n",
    "]\n",
    "\n",
    "sys.path.extend(path for path in paths_to_add if path not in sys.path)\n"
   ]
  },
  {
   "cell_type": "code",
   "execution_count": 2,
   "metadata": {},
   "outputs": [
    {
     "data": {
      "text/plain": [
       "{'xmin': array([0.]), 'xmax': array([24.])}"
      ]
     },
     "execution_count": 2,
     "metadata": {},
     "output_type": "execute_result"
    }
   ],
   "source": [
    "import numpy as np\n",
    "from fbpinns.domains import RectangularDomainND\n",
    "\n",
    "domain = RectangularDomainND\n",
    "domain_init_kwargs = dict(\n",
    "    xmin = np.array([0.,]),\n",
    "    xmax = np.array([24.,])\n",
    ")\n",
    "\n",
    "domain_init_kwargs"
   ]
  },
  {
   "cell_type": "markdown",
   "metadata": {},
   "source": [
    "Step 2: Define the ODE to solve"
   ]
  },
  {
   "cell_type": "code",
   "execution_count": 3,
   "metadata": {},
   "outputs": [],
   "source": [
    "import jax.numpy as jnp\n",
    "from fbpinns.problems import Problem"
   ]
  },
  {
   "cell_type": "code",
   "execution_count": 4,
   "metadata": {},
   "outputs": [],
   "source": [
    "from scipy.integrate import odeint\n",
    "from scipy.interpolate import interp1d\n",
    "import jax\n",
    "\n",
    "class CompetitionModel(Problem):\n",
    "\n",
    "    @staticmethod\n",
    "    def init_params(params=[0.5, 0.7, 0.3, 0.3, 0.6], u0=2, v0=1, sd=0.1):\n",
    "        \n",
    "        r, a1, a2, b1, b2 = params \n",
    "        static_params = {\n",
    "            \"dims\":(2,1),   # dims of solution and problem\n",
    "            \"r_true\":r,\n",
    "            \"a1_true\":a1,\n",
    "            \"a2_true\":a2,\n",
    "            \"b1_true\":b1,\n",
    "            \"b2_true\":b2,\n",
    "            \"u0\":u0,\n",
    "            \"v0\":v0,\n",
    "            \"sd\":sd,\n",
    "        }\n",
    "        trainable_params = {\n",
    "            \"r\":jnp.array(0.),\n",
    "            \"a1\":jnp.array(0.),\n",
    "            \"a2\":jnp.array(0.),\n",
    "            \"b1\":jnp.array(0.),\n",
    "            \"b2\":jnp.array(0.),\n",
    "        }\n",
    "        return static_params, trainable_params\n",
    "    \n",
    "    @staticmethod\n",
    "    def sample_constraints(all_params, domain, key, sampler, batch_shapes):\n",
    "        # Physics Loss\n",
    "        x_batch_phys = domain.sample_interior(all_params, key, sampler, batch_shapes[0])\n",
    "        required_ujs_phys = (\n",
    "            (0, ()),  \n",
    "            (1, ()),  \n",
    "            (0, (0,)), \n",
    "            (1, (1,)),  \n",
    "        )\n",
    "\n",
    "        # Data Loss\n",
    "        u0 = all_params[\"static\"][\"problem\"][\"u0\"]\n",
    "        v0 = all_params[\"static\"][\"problem\"][\"v0\"]\n",
    "        x_batch_data = jnp.linspace(10, 24, 100).astype(float).reshape((-1,1))\n",
    "        # r_true, a1_true, a2_true, b1_true, b2_true = [all_params['static'][\"problem\"][key] for key in ('r_true', 'a1_true', 'a2_true', 'b1_true', 'b2_true')]\n",
    "        # params = (r_true, a1_true, a2_true, b1_true, b2_true)\n",
    "        # solution = odeint(CompetitionModel.model, [u0,v0], x_batch_data.reshape((-1,)), args=(params,))\n",
    "        noise = jax.random.normal(key, shape=(x_batch_data.shape[0],1))  * 0.05\n",
    "        solution = CompetitionModel.exact_solution(all_params, x_batch_data)\n",
    "        u_data = solution[:,0] + noise\n",
    "        v_data = solution[:,1] + noise\n",
    "        required_ujs_data = (\n",
    "            (0, ()), \n",
    "            (1, ()),  \n",
    "        )\n",
    "\n",
    "\n",
    "        return [[x_batch_phys, required_ujs_phys],\n",
    "                [x_batch_data, u_data, v_data, required_ujs_data]]\n",
    "    \n",
    "    @staticmethod\n",
    "    def constraining_fn(all_params, x_batch, solution):\n",
    "        sd = all_params[\"static\"][\"problem\"][\"sd\"]\n",
    "        u0 = all_params[\"static\"][\"problem\"][\"u0\"]\n",
    "        v0 = all_params[\"static\"][\"problem\"][\"v0\"]\n",
    "\n",
    "        x, tanh = x_batch[:,0:1], jnp.tanh\n",
    "\n",
    "        u = solution[:, 0:1] * tanh(x/sd) + u0 # Hard constraining\n",
    "        v = solution[:, 1:2] * tanh(x/sd)  + v0\n",
    "\n",
    "        return jnp.concatenate([u, v], axis=1)\n",
    "    \n",
    "    @staticmethod\n",
    "    def loss_fn(all_params, constraints):\n",
    "        \n",
    "        r, a1, a2, b1, b2 = [all_params['trainable'][\"problem\"][key] for key in ('r', 'a1', 'a2', 'b1', 'b2')]\n",
    "\n",
    "        # Physics loss\n",
    "        _, u, v, ut, vt = constraints[0]\n",
    "        phys1 = jnp.mean((ut - u + a1*u**2 + a2*u*v)**2)\n",
    "        phys2 = jnp.mean((vt - r*v + r*b1*u*v + r*b2*v**2)**2)\n",
    "        phys = phys1 + phys2\n",
    "\n",
    "        # Data Loss\n",
    "        _, ud, vd, u, v = constraints[1]\n",
    "        u = u.reshape(-1) \n",
    "        v = v.reshape(-1) \n",
    "        data = jnp.mean((u-ud)**2) + jnp.mean((v-vd)**2)\n",
    "        \n",
    "        return phys + data\n",
    "\n",
    "    @staticmethod\n",
    "    def model(y, t, params):\n",
    "        \"\"\"\n",
    "        Compute the derivatives of the system at time t.\n",
    "        \n",
    "        :param y: Current state of the system [u, v].\n",
    "        :param t: Current time.\n",
    "        :param params: Parameters of the model (a1, a2, b1, b2, r).\n",
    "        :return: Derivatives [du/dt, dv/dt].\n",
    "        \"\"\"\n",
    "        u, v = y  \n",
    "        r, a1, a2, b1, b2 = params  \n",
    "        \n",
    "        # Define the equations\n",
    "        du_dt = u * (1 - a1 * u - a2 * v)\n",
    "        dv_dt = r * v * (1 - b1 * u - b2 * v)\n",
    "        \n",
    "        return [du_dt, dv_dt]\n",
    "    \n",
    "    @staticmethod\n",
    "    def exact_solution(all_params, x_batch, batch_shape=None):\n",
    "        r, a1, a2, b1, b2 = [all_params['static'][\"problem\"][key] for key in ('r_true', 'a1_true', 'a2_true', 'b1_true', 'b2_true')]\n",
    "        u0 = all_params[\"static\"][\"problem\"][\"u0\"]\n",
    "        v0 = all_params[\"static\"][\"problem\"][\"v0\"]\n",
    "        params = [r, a1, a2, b1, b2]\n",
    "        \n",
    "        t = jnp.arange(0, 25.02, 0.02)  \n",
    "        \n",
    "        # Solve the system \n",
    "        solution = odeint(CompetitionModel.model, [u0, v0], t, args=(params,))\n",
    "        \n",
    "        # Interpolation \n",
    "        u_interp = interp1d(t, solution[:, 0], kind='cubic')\n",
    "        v_interp = interp1d(t, solution[:, 1], kind='cubic')\n",
    "        \n",
    "        u_data = u_interp(x_batch.flatten())\n",
    "        v_data = v_interp(x_batch.flatten())\n",
    "        \n",
    "        # Combine \n",
    "        combined_solution = jnp.vstack((u_data, v_data)).T\n",
    "        if batch_shape:\n",
    "            combined_solution = combined_solution.reshape(batch_shape + (2,))\n",
    "        \n",
    "        return combined_solution\n",
    "    \n",
    "    @staticmethod\n",
    "    def learned_solution(all_params, x_batch):\n",
    "        # r_true, a1_true, a2_true, b1_true, b2_true = [all_params['static'][\"problem\"][key] for key in ('r_true', 'a1_true', 'a2_true', 'b1_true', 'b2_true')]\n",
    "        r, a1, a2, b1, b2 = [all_params['trainable'][\"problem\"][key] for key in ('r', 'a1', 'a2', 'b1', 'b2')]\n",
    "        u0 = all_params[\"static\"][\"problem\"][\"u0\"]\n",
    "        v0 = all_params[\"static\"][\"problem\"][\"v0\"]\n",
    "        params = [r, a1, a2, b1, b2]\n",
    "\n",
    "        solution = odeint(CompetitionModel.model, [u0, v0], x_batch, args=(params,))\n",
    "\n",
    "        return solution\n",
    "\n",
    "\n",
    "# solution = odeint(self._model, initial_conditions, t_span)\n",
    "# from scipy.integrate import odeint\n",
    "    \n",
    "problem = CompetitionModel\n",
    "# params = [0.5, 0.7, 0.3, 0.3, 0.6]\n",
    "params = [0.5, 0.3, 0.6, 0.7, 0.3]\n",
    "problem_init_kwargs = dict(\n",
    "    params=params, u0=2, v0=1,\n",
    ")\n"
   ]
  },
  {
   "cell_type": "markdown",
   "metadata": {},
   "source": [
    "Step3: Define the domain decomposition used by the FBPINN"
   ]
  },
  {
   "cell_type": "code",
   "execution_count": 5,
   "metadata": {},
   "outputs": [
    {
     "data": {
      "text/plain": [
       "{'subdomain_xs': [array([ 0., 12., 24.])],\n",
       " 'subdomain_ws': [array([18., 18., 18.])],\n",
       " 'unnorm': (0.0, 1.0)}"
      ]
     },
     "execution_count": 5,
     "metadata": {},
     "output_type": "execute_result"
    }
   ],
   "source": [
    "from fbpinns.decompositions import RectangularDecompositionND\n",
    "from fbpinns.constants import get_subdomain_ws\n",
    "\n",
    "decomposition = RectangularDecompositionND # use a rectangular domain decomposition\n",
    "\n",
    "w = 1.5\n",
    "subdomain_xs = [np.linspace(0,24,3)]\n",
    "decomposition_init_kwargs = dict(\n",
    "    subdomain_xs = subdomain_xs,\n",
    "    # subdomain_ws = [(24/1.8)*np.ones((2,))],\n",
    "    subdomain_ws = get_subdomain_ws(subdomain_xs, w),\n",
    "    unnorm = (0., 1.),\n",
    ")\n",
    "decomposition_init_kwargs"
   ]
  },
  {
   "cell_type": "code",
   "execution_count": 6,
   "metadata": {},
   "outputs": [
    {
     "data": {
      "text/plain": [
       "{'subdomain_xs': [array([ 5. , 13.5, 20.5])],\n",
       " 'subdomain_ws': [array([10.005, 10.5  , 10.5  ])],\n",
       " 'unnorm': (0.0, 1.0)}"
      ]
     },
     "execution_count": 6,
     "metadata": {},
     "output_type": "execute_result"
    }
   ],
   "source": [
    "from fbpinns.decompositions import RectangularDecompositionND\n",
    "from subdomain_helper import get_subdomain_xsws\n",
    "\n",
    "decomposition = RectangularDecompositionND\n",
    "w=1.5\n",
    "subdomain_xs, subdomain_ws = get_subdomain_xsws([10, 24], 0, 24, 3, w, 1.0005)\n",
    "decomposition_init_kwargs = dict(\n",
    "    subdomain_xs = subdomain_xs,\n",
    "    subdomain_ws = subdomain_ws,\n",
    "    unnorm = (0., 1.),\n",
    ")\n",
    "decomposition_init_kwargs"
   ]
  },
  {
   "cell_type": "markdown",
   "metadata": {},
   "source": [
    "Step4: Define the neural network placed in each subdomain"
   ]
  },
  {
   "cell_type": "code",
   "execution_count": 7,
   "metadata": {},
   "outputs": [],
   "source": [
    "from fbpinns.networks import FCN\n",
    "\n",
    "network = FCN# place a fully-connected network in each subdomain\n",
    "network_init_kwargs=dict(\n",
    "    layer_sizes=[1,5, 5 ,5,2],# with 2 hidden layers\n",
    ")"
   ]
  },
  {
   "cell_type": "markdown",
   "metadata": {},
   "source": [
    "Step 5: Create a constants object"
   ]
  },
  {
   "cell_type": "code",
   "execution_count": 8,
   "metadata": {},
   "outputs": [
    {
     "name": "stdout",
     "output_type": "stream",
     "text": [
      "<fbpinns.constants.Constants object at 0x0000024F4B96F250>\n",
      "run: test\n",
      "domain: <class 'fbpinns.domains.RectangularDomainND'>\n",
      "domain_init_kwargs: {'xmin': array([0.]), 'xmax': array([24.])}\n",
      "problem: <class '__main__.CompetitionModel'>\n",
      "problem_init_kwargs: {'params': [0.5, 0.3, 0.6, 0.7, 0.3], 'u0': 2, 'v0': 1}\n",
      "decomposition: <class 'fbpinns.decompositions.RectangularDecompositionND'>\n",
      "decomposition_init_kwargs: {'subdomain_xs': [array([ 5. , 13.5, 20.5])], 'subdomain_ws': [array([10.005, 10.5  , 10.5  ])], 'unnorm': (0.0, 1.0)}\n",
      "network: <class 'fbpinns.networks.FCN'>\n",
      "network_init_kwargs: {'layer_sizes': [1, 5, 5, 5, 2]}\n",
      "n_steps: 50000\n",
      "scheduler: <class 'fbpinns.schedulers.AllActiveSchedulerND'>\n",
      "scheduler_kwargs: {}\n",
      "ns: ((200,),)\n",
      "n_test: (500,)\n",
      "sampler: grid\n",
      "optimiser: <function adam at 0x0000024F4B943380>\n",
      "optimiser_kwargs: {'learning_rate': 0.001}\n",
      "seed: 0\n",
      "summary_freq: 1000\n",
      "test_freq: 1000\n",
      "model_save_freq: 10000\n",
      "show_figures: True\n",
      "save_figures: False\n",
      "clear_output: True\n",
      "hostname: ts\n",
      "skip_plot_at_first: False\n",
      "\n"
     ]
    }
   ],
   "source": [
    "from fbpinns.constants import Constants\n",
    "\n",
    "c = Constants(\n",
    "    domain=domain,\n",
    "    domain_init_kwargs=domain_init_kwargs,\n",
    "    problem=problem,\n",
    "    problem_init_kwargs=problem_init_kwargs,\n",
    "    decomposition=decomposition,\n",
    "    decomposition_init_kwargs=decomposition_init_kwargs,\n",
    "    network=network,\n",
    "    network_init_kwargs=network_init_kwargs,\n",
    "    ns=((200,),),# use 200 collocation points for training\n",
    "    n_test=(500,),# use 500 points for testing\n",
    "    n_steps=50000,# number of training steps\n",
    "    clear_output=True,\n",
    "    sampler='grid',\n",
    ")\n",
    "\n",
    "print(c)"
   ]
  },
  {
   "cell_type": "markdown",
   "metadata": {},
   "source": [
    "Step 6: Train the FBPINNs using FBPINNTrainer"
   ]
  },
  {
   "cell_type": "code",
   "execution_count": 9,
   "metadata": {},
   "outputs": [
    {
     "data": {
      "image/png": "[encoded data removed]",
      "text/plain": [
       "<Figure size 800x1333.33 with 4 Axes>"
      ]
     },
     "metadata": {},
     "output_type": "display_data"
    },
    {
     "data": {
      "text/plain": [
       "<Figure size 800x500 with 0 Axes>"
      ]
     },
     "metadata": {},
     "output_type": "display_data"
    },
    {
     "name": "stdout",
     "output_type": "stream",
     "text": [
      "[INFO] 2024-04-29 10:13:21 - [i: 50000/50000] Training complete\n"
     ]
    },
    {
     "data": {
      "text/plain": [
       "\"\\nFound the bug, it's in the $plot_trainer_1D.py$ function, \\nspecifically whit _lim() and _plot_setup() functions to look into.\\n\\n\""
      ]
     },
     "execution_count": 9,
     "metadata": {},
     "output_type": "execute_result"
    }
   ],
   "source": [
    "from fbpinns.trainers import FBPINNTrainer\n",
    "\n",
    "run = FBPINNTrainer(c)\n",
    "all_params = run.train()\n",
    "\n",
    "### TODO\n",
    "\"\"\"\n",
    "Found the bug, it's in the $plot_trainer_1D.py$ function, \n",
    "specifically whit _lim() and _plot_setup() functions to look into.\n",
    "\n",
    "\"\"\""
   ]
  },
  {
   "cell_type": "code",
   "execution_count": 10,
   "metadata": {},
   "outputs": [
    {
     "data": {
      "image/png": "[encoded data removed]",
      "text/plain": [
       "<Figure size 800x1000 with 3 Axes>"
      ]
     },
     "metadata": {},
     "output_type": "display_data"
    },
    {
     "name": "stdout",
     "output_type": "stream",
     "text": [
      "[INFO] 2024-04-29 10:13:39 - [i: 50000/50000] Training complete\n"
     ]
    }
   ],
   "source": [
    "from fbpinns.trainers import PINNTrainer\n",
    "pinn_run = PINNTrainer(c)\n",
    "pinn_params = pinn_run.train()"
   ]
  },
  {
   "cell_type": "code",
   "execution_count": 11,
   "metadata": {},
   "outputs": [
    {
     "data": {
      "text/plain": [
       "{'domain': {'xd': 1,\n",
       "  'xmin': Array([0.], dtype=float32),\n",
       "  'xmax': Array([24.], dtype=float32)},\n",
       " 'problem': {'dims': (2, 1),\n",
       "  'r_true': 0.5,\n",
       "  'a1_true': 0.3,\n",
       "  'a2_true': 0.6,\n",
       "  'b1_true': 0.7,\n",
       "  'b2_true': 0.3,\n",
       "  'u0': 2,\n",
       "  'v0': 1,\n",
       "  'sd': 0.1},\n",
       " 'decomposition': {'m': 3,\n",
       "  'xd': 1,\n",
       "  'subdomain': {'params': [Array([[-2.500e-03],\n",
       "           [ 8.250e+00],\n",
       "           [ 1.525e+01]], dtype=float32),\n",
       "    Array([[10.0025],\n",
       "           [18.75  ],\n",
       "           [25.75  ]], dtype=float32),\n",
       "    Array([[1.7525],\n",
       "           [1.7525],\n",
       "           [3.5   ]], dtype=float32),\n",
       "    Array([[1.7525],\n",
       "           [3.5   ],\n",
       "           [3.5   ]], dtype=float32),\n",
       "    Array([[1.],\n",
       "           [1.],\n",
       "           [1.]], dtype=float32),\n",
       "    Array([[0., 1.],\n",
       "           [0., 1.],\n",
       "           [0., 1.]], dtype=float32)],\n",
       "   'pou': Array([[0.],\n",
       "          [0.],\n",
       "          [0.]], dtype=float32)},\n",
       "  'xmins0': array([[ 0.87375],\n",
       "         [ 9.12625],\n",
       "         [17.     ]]),\n",
       "  'xmaxs0': array([[ 9.12625],\n",
       "         [17.     ],\n",
       "         [24.     ]])}}"
      ]
     },
     "execution_count": 11,
     "metadata": {},
     "output_type": "execute_result"
    }
   ],
   "source": [
    "all_params[\"static\"]"
   ]
  },
  {
   "cell_type": "code",
   "execution_count": 12,
   "metadata": {},
   "outputs": [
    {
     "name": "stdout",
     "output_type": "stream",
     "text": [
      "-3.5515282 0.2985557 0.41165724 0.2680843 0.46508643\n",
      "0.5 0.3 0.6 0.7 0.3\n"
     ]
    }
   ],
   "source": [
    "r, a1, a2, b1, b2 = [all_params['trainable'][\"problem\"][key] for key in ('r', 'a1', 'a2', 'b1', 'b2')]\n",
    "print(r, a1, a2, b1, b2)\n",
    "\n",
    "r, a1, a2, b1, b2 = [all_params['static'][\"problem\"][key] for key in ('r_true', 'a1_true', 'a2_true', 'b1_true', 'b2_true')]\n",
    "print(r, a1, a2, b1, b2)"
   ]
  },
  {
   "cell_type": "code",
   "execution_count": 13,
   "metadata": {},
   "outputs": [
    {
     "name": "stdout",
     "output_type": "stream",
     "text": [
      "(3, 5, 1) (3, 5)\n",
      "(3, 5, 5) (3, 5)\n",
      "(3, 5, 5) (3, 5)\n",
      "(3, 2, 5) (3, 2)\n"
     ]
    }
   ],
   "source": [
    "params = all_params[\"trainable\"][\"network\"][\"subdomain\"][\"layers\"]\n",
    "for w, b in params[:]:\n",
    "    print(w.shape, b.shape)\n",
    "    #print(w)\n"
   ]
  },
  {
   "cell_type": "code",
   "execution_count": 14,
   "metadata": {},
   "outputs": [
    {
     "name": "stdout",
     "output_type": "stream",
     "text": [
      "25\n",
      "(5,)\n",
      "(5,)\n",
      "(5,)\n",
      "(5,)\n",
      "(5,)\n",
      "(5,)\n",
      "(25,)\n",
      "(25,)\n",
      "(25,)\n",
      "(5,)\n",
      "(5,)\n",
      "(5,)\n",
      "(25,)\n",
      "(25,)\n",
      "(25,)\n",
      "(5,)\n",
      "(5,)\n",
      "(5,)\n",
      "(10,)\n",
      "(10,)\n",
      "(10,)\n",
      "(2,)\n",
      "(2,)\n",
      "(2,)\n",
      "(5,)\n"
     ]
    }
   ],
   "source": [
    "import numpy as np\n",
    "\n",
    "def _collect_weights_subdomain(all_params):\n",
    "    network_params = all_params[\"trainable\"][\"network\"][\"subdomain\"][\"layers\"]\n",
    "    problem_params = all_params[\"trainable\"][\"problem\"]\n",
    "    x_values = []\n",
    "    for w, b in network_params:\n",
    "        x_local_w = []\n",
    "        x_local_b = []\n",
    "        for subdomain_weights in w:\n",
    "            flattened_weights = np.array(subdomain_weights).flatten()\n",
    "            # x_local_w.extend(flattened_weights)\n",
    "            x_values.append(np.array(flattened_weights))\n",
    "        for subdomain_biases in b:\n",
    "            flattened_biases = np.array(subdomain_biases).flatten()\n",
    "            # x_local_b.extend(flattened_biases)\n",
    "            x_values.append(np.array(flattened_biases))\n",
    "\n",
    "        # x_values.append(np.array(x_local_w))\n",
    "        # x_values.append(np.array(x_local_b))\n",
    "    param_values = np.array([float(problem_params[key]) for key in problem_params])\n",
    "    x_values.append(np.array(param_values))\n",
    "    return x_values\n",
    "\n",
    "x_trained = _collect_weights_subdomain(all_params)\n",
    "print(len(x_trained))\n",
    "\n",
    "for array in x_trained:\n",
    "    print(array.shape)  "
   ]
  },
  {
   "cell_type": "code",
   "execution_count": 15,
   "metadata": {},
   "outputs": [
    {
     "data": {
      "text/plain": [
       "[array([1.76405235, 0.40015721, 0.97873798, 2.2408932 , 1.86755799]),\n",
       " array([-0.97727788,  0.95008842, -0.15135721, -0.10321885,  0.4105985 ]),\n",
       " array([0.14404357, 1.45427351, 0.76103773, 0.12167502, 0.44386323]),\n",
       " array([ 0.33367433,  1.49407907, -0.20515826,  0.3130677 , -0.85409574]),\n",
       " array([-2.55298982,  0.6536186 ,  0.8644362 , -0.74216502,  2.26975462]),\n",
       " array([-1.45436567,  0.04575852, -0.18718385,  1.53277921,  1.46935877]),\n",
       " array([ 0.15494743,  0.37816252, -0.88778575, -1.98079647, -0.34791215,\n",
       "         0.15634897,  1.23029068,  1.20237985, -0.38732682, -0.30230275,\n",
       "        -1.04855297, -1.42001794, -1.70627019,  1.9507754 , -0.50965218,\n",
       "        -0.4380743 , -1.25279536,  0.77749036, -1.61389785, -0.21274028,\n",
       "        -0.89546656,  0.3869025 , -0.51080514, -1.18063218, -0.02818223]),\n",
       " array([ 0.42833187,  0.06651722,  0.3024719 , -0.63432209, -0.36274117,\n",
       "        -0.67246045, -0.35955316, -0.81314628, -1.7262826 ,  0.17742614,\n",
       "        -0.40178094, -1.63019835,  0.46278226, -0.90729836,  0.0519454 ,\n",
       "         0.72909056,  0.12898291,  1.13940068, -1.23482582,  0.40234164,\n",
       "        -0.68481009, -0.87079715, -0.57884966, -0.31155253,  0.05616534]),\n",
       " array([-1.16514984,  0.90082649,  0.46566244, -1.53624369,  1.48825219,\n",
       "         1.89588918,  1.17877957, -0.17992484, -1.07075262,  1.05445173,\n",
       "        -0.40317695,  1.22244507,  0.20827498,  0.97663904,  0.3563664 ,\n",
       "         0.70657317,  0.01050002,  1.78587049,  0.12691209,  0.40198936,\n",
       "         1.8831507 , -1.34775906, -1.270485  ,  0.96939671, -1.17312341]),\n",
       " array([ 1.94362119, -0.41361898, -0.74745481,  1.92294203,  1.48051479]),\n",
       " array([ 1.86755896,  0.90604466, -0.86122569,  1.91006495, -0.26800337]),\n",
       " array([ 0.8024564 ,  0.94725197, -0.15501009,  0.61407937,  0.92220667]),\n",
       " array([ 0.37642553, -1.09940079,  0.29823817,  1.3263859 , -0.69456786,\n",
       "        -0.14963454, -0.43515355,  1.84926373,  0.67229476,  0.40746184,\n",
       "        -0.76991607,  0.53924919, -0.67433266,  0.03183056, -0.63584608,\n",
       "         0.67643329,  0.57659082, -0.20829876,  0.39600671, -1.09306151,\n",
       "        -1.49125759,  0.4393917 ,  0.1666735 ,  0.63503144,  2.38314477]),\n",
       " array([ 0.94447949, -0.91282223,  1.11701629, -1.31590741, -0.4615846 ,\n",
       "        -0.06824161,  1.71334272, -0.74475482, -0.82643854, -0.09845252,\n",
       "        -0.66347829,  1.12663592, -1.07993151, -1.14746865, -0.43782004,\n",
       "        -0.49803245,  1.92953205,  0.94942081,  0.08755124, -1.22543552,\n",
       "         0.84436298, -1.00021535, -1.5447711 ,  1.18802979,  0.31694261]),\n",
       " array([ 0.92085882,  0.31872765,  0.85683061, -0.65102559, -1.03424284,\n",
       "         0.68159452, -0.80340966, -0.68954978, -0.4555325 ,  0.01747916,\n",
       "        -0.35399391, -1.37495129, -0.6436184 , -2.22340315,  0.62523145,\n",
       "        -1.60205766, -1.10438334,  0.05216508, -0.739563  ,  1.5430146 ,\n",
       "        -1.29285691,  0.26705087, -0.03928282, -1.1680935 ,  0.52327666]),\n",
       " array([-0.17154633,  0.77179055,  0.82350415,  2.16323595,  1.33652795]),\n",
       " array([-0.36918184, -0.23937918,  1.0996596 ,  0.65526373,  0.64013153]),\n",
       " array([-1.61695604, -0.02432612, -0.73803091,  0.2799246 , -0.09815039]),\n",
       " array([ 0.91017891,  0.31721822,  0.78632796, -0.4664191 , -0.94444626,\n",
       "        -0.41004969, -0.01702041,  0.37915174,  2.25930895, -0.04225715]),\n",
       " array([-0.955945  , -0.34598178, -0.46359597,  0.48148147, -1.54079701,\n",
       "         0.06326199,  0.15650654,  0.23218104, -0.59731607, -0.23792173]),\n",
       " array([-1.42406091, -0.49331988, -0.54286148,  0.41605005, -1.15618243,\n",
       "         0.7811981 ,  1.49448454, -2.06998503,  0.42625873,  0.67690804]),\n",
       " array([-0.63743703, -0.39727181]),\n",
       " array([-0.13288058, -0.29779088]),\n",
       " array([-0.30901297, -1.67600381]),\n",
       " array([ 1.15233156,  1.07961859, -0.81336426, -1.46642433,  0.52106488]),\n",
       " array([], dtype=float64)]"
      ]
     },
     "execution_count": 15,
     "metadata": {},
     "output_type": "execute_result"
    }
   ],
   "source": [
    "x_sizes = [x.size for x in x_trained]\n",
    "num_param = sum(x_sizes)\n",
    "n0 = np.split(np.random.standard_normal(num_param), np.cumsum(x_sizes))\n",
    "n1 = np.split(np.random.standard_normal(num_param), np.cumsum(x_sizes))\n",
    "n0"
   ]
  },
  {
   "cell_type": "code",
   "execution_count": 16,
   "metadata": {},
   "outputs": [],
   "source": [
    "norm = 2\n",
    "_norm = lambda xs: np.linalg.norm(xs, norm)"
   ]
  },
  {
   "cell_type": "code",
   "execution_count": 17,
   "metadata": {},
   "outputs": [
    {
     "data": {
      "text/plain": [
       "([array([0.11188711, 0.02538045, 0.06207762, 0.14213131, 0.11845208]),\n",
       "  array([-0.06198501,  0.06026048, -0.00960001, -0.00654678,  0.0260427 ]),\n",
       "  array([0.00913613, 0.09223902, 0.04826972, 0.00771738, 0.02815255]),\n",
       "  array([ 0.02116369,  0.09476374, -0.01301241,  0.01985669, -0.05417203]),\n",
       "  array([-0.1619264 ,  0.04145653,  0.05482789, -0.0470727 ,  0.14396188]),\n",
       "  array([-0.09224487,  0.00290229, -0.01187236,  0.09721834,  0.09319582]),\n",
       "  array([ 0.00982772,  0.02398541, -0.05630886, -0.12563436, -0.02206674,\n",
       "          0.00991662,  0.07803264,  0.07626237, -0.02456666, -0.01917391,\n",
       "         -0.06650571, -0.09006632, -0.10822221,  0.12373024, -0.03232529,\n",
       "         -0.02778538, -0.07946003,  0.04931325, -0.10236338, -0.0134933 ,\n",
       "         -0.05679603,  0.02453975, -0.03239842, -0.074883  , -0.00178749]),\n",
       "  array([ 0.02716746,  0.00421893,  0.01918464, -0.04023263, -0.02300729,\n",
       "         -0.0426516 , -0.02280509, -0.05157477, -0.10949152,  0.01125346,\n",
       "         -0.02548343, -0.10339726,  0.02935251, -0.05754647,  0.0032947 ,\n",
       "          0.04624343,  0.00818089,  0.07226784, -0.07832029,  0.025519  ,\n",
       "         -0.04343489, -0.05523134, -0.03671423, -0.01976059,  0.00356235]),\n",
       "  array([-0.07390101,  0.05713599,  0.02953519, -0.09743808,  0.09439416,\n",
       "          0.12024902,  0.07476549, -0.01141195, -0.06791375,  0.06687985,\n",
       "         -0.02557198,  0.07753503,  0.01321009,  0.06194449,  0.02260296,\n",
       "          0.04481524,  0.00066598,  0.11327095,  0.00804955,  0.02549665,\n",
       "          0.11944106, -0.08548322, -0.08058202,  0.06148513, -0.07440674]),\n",
       "  array([ 0.12327648, -0.02623427, -0.04740821,  0.12196488,  0.0939034 ]),\n",
       "  array([ 0.11845214,  0.05746696, -0.05462426,  0.12114813, -0.01699843]),\n",
       "  array([ 0.05089675,  0.06008058, -0.0098317 ,  0.03894871,  0.05849205]),\n",
       "  array([ 0.02387524, -0.0697308 ,  0.01891611,  0.0841276 , -0.04405379,\n",
       "         -0.00949075, -0.02760013,  0.11729174,  0.04264109,  0.02584375,\n",
       "         -0.04883284,  0.03420252, -0.04277035,  0.00201889, -0.04032929,\n",
       "          0.04290358,  0.03657096, -0.0132116 ,  0.0251172 , -0.06932872,\n",
       "         -0.09458478,  0.02786894,  0.01057146,  0.04027762,  0.15115378]),\n",
       "  array([ 0.05990473, -0.05789683,  0.07084808, -0.08346299, -0.02927655,\n",
       "         -0.0043283 ,  0.10867079, -0.04723696, -0.05241784, -0.00624447,\n",
       "         -0.0420819 ,  0.07145822, -0.06849594, -0.07277956, -0.02776926,\n",
       "         -0.0315883 ,  0.12238286,  0.06021814,  0.00555304, -0.0777247 ,\n",
       "          0.05355472, -0.06343984, -0.09797894,  0.0753522 ,  0.02010246]),\n",
       "  array([ 0.05840656,  0.02021568,  0.0543455 , -0.04129207, -0.06559808,\n",
       "          0.04323094, -0.05095721, -0.04373551, -0.02889269,  0.00110864,\n",
       "         -0.02245248, -0.08720792, -0.04082226, -0.14102198,  0.03965605,\n",
       "         -0.10161241, -0.07004682,  0.00330863, -0.04690766,  0.09786753,\n",
       "         -0.08200098,  0.01693802, -0.00249156, -0.07408771,  0.03318944]),\n",
       "  array([-0.01088053,  0.04895173,  0.05223173,  0.1372058 ,  0.08477087]),\n",
       "  array([-0.0234158 , -0.01518291,  0.06974721,  0.04156088,  0.0406011 ]),\n",
       "  array([-0.10255735, -0.00154291, -0.04681048,  0.01775455, -0.0062253 ]),\n",
       "  array([ 0.05772918,  0.02011994,  0.04987378, -0.02958318, -0.05990262,\n",
       "         -0.02600789, -0.00107954,  0.02404815,  0.14329935, -0.00268021]),\n",
       "  array([-0.06063194, -0.0219443 , -0.02940412,  0.03053853, -0.09772688,\n",
       "          0.00401247,  0.00992661,  0.01472636, -0.03788548, -0.01509047]),\n",
       "  array([-0.09032275, -0.0312894 , -0.03443163,  0.02638847, -0.07333224,\n",
       "          0.04954842,  0.09478945, -0.13129125,  0.02703597,  0.04293369]),\n",
       "  array([-0.0404302 , -0.02519744]),\n",
       "  array([-0.00842811, -0.01888774]),\n",
       "  array([-0.01959951, -0.10630253]),\n",
       "  array([ 0.07308799,  0.06847609, -0.05158859, -0.0930097 ,  0.03304916]),\n",
       "  array([], dtype=float64)],\n",
       " [array([-0.03641243,  0.00897702, -0.0201941 ,  0.04373242,  0.04393545]),\n",
       "  array([-0.04588627, -0.08748296, -0.10010391,  0.03859996, -0.07518262]),\n",
       "  array([-0.03205071, -0.03771048, -0.00332432, -0.12244897,  0.01193823]),\n",
       "  array([ 0.0331305 ,  0.00559175, -0.01966022,  0.00615952,  0.02523541]),\n",
       "  array([-0.17533681,  0.12369052,  0.02466923, -0.04125786, -0.02472362]),\n",
       "  array([ 0.03122388, -0.00734233, -0.12841905,  0.13055707, -0.00699051]),\n",
       "  array([ 0.064515  , -0.04376474,  0.0971594 ,  0.01810817,  0.03850285,\n",
       "         -0.06610109,  0.07659197,  0.04362361,  0.08232784, -0.03971981,\n",
       "         -0.03041982,  0.14569807, -0.06703465, -0.00859736,  0.07189621,\n",
       "          0.00618006,  0.03686558, -0.02526088,  0.02340207, -0.08262384,\n",
       "          0.10485902, -0.00747261, -0.04301399,  0.0421416 , -0.02913559]),\n",
       "  array([-0.08437757, -0.08516547,  0.04387373, -0.01009131, -0.00845519,\n",
       "          0.06815576, -0.07125967, -0.04620755, -0.02433953,  0.00596673,\n",
       "         -0.00266689, -0.01814254, -0.00389721, -0.00678591, -0.04550727,\n",
       "         -0.0514131 ,  0.01736022, -0.05634084, -0.07319033, -0.01974914,\n",
       "         -0.00997075,  0.1427136 , -0.04456475,  0.05965114,  0.04725166]),\n",
       "  array([-0.07518804,  0.04889997, -0.07486778, -0.16816418,  0.03834322,\n",
       "         -0.11104128,  0.02851678, -0.04325637,  0.10494882,  0.06757178,\n",
       "         -0.0286718 , -0.04349837, -0.0767774 , -0.02788364, -0.01772948,\n",
       "         -0.02306296,  0.00990984,  0.03658529,  0.0221119 , -0.04832392,\n",
       "         -0.09092492,  0.08629203, -0.04360028, -0.04125059, -0.03295964]),\n",
       "  array([-0.11655442, -0.03022674, -0.0303331 ,  0.03923102,  0.04416994]),\n",
       "  array([ 0.00023847,  0.05892943,  0.02149915, -0.00099173,  0.01017698]),\n",
       "  array([-0.01205679, -0.02497   , -0.01693128, -0.07133464,  0.01773494]),\n",
       "  array([-0.06280444,  0.05322417, -0.01577558,  0.00313003,  0.03122989,\n",
       "          0.04068275, -0.09932512, -0.01308444,  0.05566189, -0.10738702,\n",
       "          0.02449134, -0.14264029, -0.06466261,  0.00244297, -0.1047695 ,\n",
       "         -0.062323  , -0.09307781,  0.10422689,  0.01038565,  0.03587504,\n",
       "         -0.01408182, -0.02235077, -0.10222469, -0.01845559, -0.04815623]),\n",
       "  array([ 0.0542545 ,  0.07216248,  0.0927454 ,  0.05391478, -0.03785845,\n",
       "         -0.07056854,  0.04848324,  0.02253171, -0.11184113,  0.02248042,\n",
       "          0.05150966,  0.00372641, -0.01170266, -0.05107512, -0.09147783,\n",
       "          0.05061028, -0.01954818, -0.01476427,  0.10957607,  0.04328737,\n",
       "          0.02345071,  0.00898389,  0.0961234 ,  0.10874562,  0.05878125]),\n",
       "  array([ 0.03681947, -0.13246122,  0.00782409, -0.00822787,  0.00594154,\n",
       "          0.05963757, -0.17325525, -0.03600289,  0.01706856, -0.02952298,\n",
       "         -0.08960414,  0.05495264,  0.01750918, -0.06141197,  0.01990882,\n",
       "          0.0519565 ,  0.0003347 ,  0.05062715,  0.00494912, -0.024994  ,\n",
       "         -0.07332094, -0.0054342 ,  0.01228695,  0.05538705, -0.00727932]),\n",
       "  array([ 0.02892664, -0.06100138, -0.04949292, -0.00698094, -0.06669396]),\n",
       "  array([0.0518719 , 0.02928804, 0.01764982, 0.02143206, 0.12780937]),\n",
       "  array([-0.02965064, -0.1392176 ,  0.0126036 , -0.00320013, -0.03272754]),\n",
       "  array([-0.06190051, -0.02777404,  0.01146771, -0.03179777,  0.15256187,\n",
       "         -0.06074162, -0.05015618, -0.14473072,  0.0159037 , -0.12751613]),\n",
       "  array([-0.03411473, -0.01743321, -0.0448827 ,  0.10996508,  0.0628848 ,\n",
       "          0.08342129, -0.05580354,  0.07137149,  0.03136675,  0.04878317]),\n",
       "  array([ 0.06510099, -0.05746955, -0.02683355,  0.05454996, -0.16793948,\n",
       "          0.0957018 ,  0.03497968, -0.00289029,  0.01394475, -0.06513238]),\n",
       "  array([-0.02213017,  0.06958121]),\n",
       "  array([0.08208599, 0.17050731]),\n",
       "  array([-0.00467494, -0.04164643]),\n",
       "  array([-0.03251979, -0.06438025, -0.00492348,  0.02420373, -0.00216546]),\n",
       "  array([], dtype=float64)])"
      ]
     },
     "execution_count": 17,
     "metadata": {},
     "output_type": "execute_result"
    }
   ],
   "source": [
    "n0_norm, n1_norm = [_norm(np.concatenate(ni)) for ni in [n0, n1]]\n",
    "n0 = [ni/n0_norm for ni in n0]\n",
    "n1 = [ni/n1_norm for ni in n1]\n",
    "n0, n1"
   ]
  },
  {
   "cell_type": "code",
   "execution_count": 18,
   "metadata": {},
   "outputs": [
    {
     "data": {
      "text/plain": [
       "[7.740954939364527]"
      ]
     },
     "execution_count": 18,
     "metadata": {},
     "output_type": "execute_result"
    }
   ],
   "source": [
    "_weight_norm = [_norm(np.concatenate(_collect_weights_subdomain(all_params)))]\n",
    "_weight_norm"
   ]
  },
  {
   "cell_type": "code",
   "execution_count": 19,
   "metadata": {},
   "outputs": [
    {
     "data": {
      "text/plain": [
       "0.0"
      ]
     },
     "execution_count": 19,
     "metadata": {},
     "output_type": "execute_result"
    }
   ],
   "source": [
    "delta_weights = 2.0 * abs(_weight_norm[-1] - _weight_norm[0])\n",
    "# loss_values = np.zeros((self._resolution**2, 3))\n",
    "delta_weights"
   ]
  },
  {
   "cell_type": "code",
   "execution_count": 20,
   "metadata": {},
   "outputs": [
    {
     "data": {
      "text/plain": [
       "[6.8382936]"
      ]
     },
     "execution_count": 20,
     "metadata": {},
     "output_type": "execute_result"
    }
   ],
   "source": [
    "def collect_weights(params):\n",
    "    weight_list = []\n",
    "    for w, b in params:\n",
    "        weight_list.append(w.flatten())\n",
    "        weight_list.append(b.flatten())\n",
    "    return np.concatenate(weight_list)\n",
    "\n",
    "def norm_func(weights):\n",
    "    return np.linalg.norm(weights, ord=2)\n",
    "\n",
    "params = all_params[\"trainable\"][\"network\"][\"subdomain\"][\"layers\"]\n",
    "flat_weights = collect_weights(params)\n",
    "_weight_norm = [norm_func(flat_weights)]\n",
    "\n",
    "_weight_norm\n"
   ]
  },
  {
   "cell_type": "code",
   "execution_count": 21,
   "metadata": {},
   "outputs": [
    {
     "data": {
      "text/plain": [
       "array([ 0.6928692 , -1.0540549 , -0.88328904, -1.3598917 , -1.2428646 ,\n",
       "       -1.3410747 ,  0.10452071, -0.24941398,  0.21513844,  0.97769046,\n",
       "       -0.04149143,  0.71349865,  0.24104126, -1.0507687 ,  0.8361687 ,\n",
       "        0.72965986, -0.2894475 ,  0.23463961,  0.20990734, -0.76052916,\n",
       "       -0.9051847 ,  0.5795807 , -0.6706181 ,  0.53453976, -0.29718292,\n",
       "        1.1160504 , -0.16675662, -1.2468771 ,  0.19829193, -1.0046026 ,\n",
       "       -0.36797827, -0.17840232, -0.09929872,  0.44088385, -0.20510888,\n",
       "       -0.2968518 ,  0.7751952 ,  0.5756733 ,  0.9887198 ,  0.5559105 ,\n",
       "       -0.24903107, -0.49004495, -0.27101123, -0.6271237 ,  0.07292013,\n",
       "        0.372723  , -0.04975369,  0.14491476, -0.5095329 ,  0.37122068,\n",
       "       -0.00897281,  0.30843917, -0.44336626, -0.18708143,  0.42065075,\n",
       "       -0.25154462,  0.15171655, -0.29841733,  0.13961294, -0.21793735,\n",
       "       -0.3200216 ,  0.35380703, -0.4147773 ,  0.46767673, -0.02113727,\n",
       "        0.5126562 , -0.62816674,  0.69705606, -0.71041065,  0.2908394 ,\n",
       "       -0.5904551 ,  0.20601383, -0.41917634,  0.24115157, -0.26662758,\n",
       "        0.70857126, -0.12519026,  0.18443243, -0.65320724, -0.23178938,\n",
       "        0.08531734,  0.24166766,  0.04797496,  0.15644139,  0.21586387,\n",
       "        0.43758115,  0.13477214, -0.54749763,  0.13353871,  0.04576572,\n",
       "       -0.433682  ,  0.1965884 ,  0.35425287, -0.07303601, -0.29203233,\n",
       "       -0.42860296, -0.03542139,  0.31044635,  0.13766786,  0.1099851 ,\n",
       "       -0.5799683 , -0.25666276,  0.4602317 ,  0.28857705,  0.3498023 ,\n",
       "       -0.31611195, -0.35810804,  0.2784362 ,  0.17413089,  0.455929  ,\n",
       "        0.32750905, -0.26202652, -0.30906034, -0.12667637, -0.5444687 ,\n",
       "        0.13140753,  0.17459892, -0.2950899 , -0.00558   , -0.23575667,\n",
       "       -0.37034616,  0.09887972,  0.42932546,  0.2361786 ,  0.364399  ,\n",
       "       -0.45587772,  0.04065596,  0.29286814, -0.146719  ,  0.36600617,\n",
       "        0.06163362,  0.4992298 , -0.54026186, -0.06006673, -0.5062867 ,\n",
       "        0.5136636 , -0.49684036, -0.7313523 , -0.6036003 , -0.2944598 ,\n",
       "        0.50304574,  0.13450462, -0.8213372 , -0.66172117, -0.05565821,\n",
       "        0.5127475 ,  0.3434501 , -0.37988937, -0.06910756, -0.10189534,\n",
       "       -0.53890413, -0.37231323,  0.60760134, -0.7962816 ,  0.48612684,\n",
       "       -0.12646958, -0.03228189,  0.58243656,  0.2023571 ,  0.11720486,\n",
       "       -0.19681443, -0.07750146, -0.44410107,  0.3209316 , -0.37894246,\n",
       "        0.31961963, -0.08898964,  0.14360248, -0.21775748, -0.06562302,\n",
       "       -0.17408985,  0.29104358, -0.19565508,  0.41436163, -0.06450304,\n",
       "        0.28531456, -0.59244156,  0.44010743,  0.2781563 ,  0.17886624,\n",
       "        0.01453441,  0.37182483, -0.1820972 , -0.5355608 , -0.57449263,\n",
       "        0.02059786,  0.11175273,  0.38638288,  0.539334  ,  0.02695921,\n",
       "        0.30506295,  0.4265796 , -0.40986204, -0.04715875, -0.09413204,\n",
       "        0.4172379 ,  0.5536535 ,  0.0698286 , -0.10799063, -0.0186028 ,\n",
       "        0.44068447, -0.08149441,  0.0321008 ,  0.4241628 ,  0.18335408,\n",
       "        0.3289092 ,  0.24507861,  0.12313763, -0.13157183, -0.09598233,\n",
       "        0.5771182 ,  0.1818208 , -0.14480367, -0.3920067 , -0.4719946 ,\n",
       "       -0.4506179 , -0.36448342,  0.37199506, -0.33942747,  0.24786669,\n",
       "       -0.01307408, -0.5721398 ,  0.08518386,  0.5702057 , -0.02997108,\n",
       "       -0.23404336,  0.16634572,  0.62333995,  0.05669893, -0.25900754,\n",
       "        0.0333077 , -0.2662159 ,  0.57028306, -0.48552755,  0.39600697,\n",
       "       -0.306829  , -0.28914222, -0.46766925,  0.2660421 , -0.16597715,\n",
       "       -0.09562237, -0.07525441,  0.35618988, -0.3014282 ,  0.17276523,\n",
       "       -0.40347213], dtype=float32)"
      ]
     },
     "execution_count": 21,
     "metadata": {},
     "output_type": "execute_result"
    }
   ],
   "source": [
    "flat_weights"
   ]
  },
  {
   "cell_type": "code",
   "execution_count": 22,
   "metadata": {},
   "outputs": [],
   "source": [
    "# from fbpinns.trainers import PINNTrainer\n",
    "\n",
    "# c[\"network_init_kwargs\"] = dict(layer_sizes=[1,5,5,5,2]) # use a larger neural network\n",
    "# run = PINNTrainer(c)\n",
    "# pinn_out = run.train() # start training a PINN on the same problem"
   ]
  },
  {
   "cell_type": "code",
   "execution_count": 23,
   "metadata": {},
   "outputs": [
    {
     "name": "stdout",
     "output_type": "stream",
     "text": [
      "-3.5515282 0.2985557 0.41165724 0.2680843 0.46508643\n",
      "0.5 0.3 0.6 0.7 0.3\n"
     ]
    }
   ],
   "source": [
    "r, a1, a2, b1, b2 = [all_params['trainable'][\"problem\"][key] for key in ('r', 'a1', 'a2', 'b1', 'b2')]\n",
    "print(r, a1, a2, b1, b2)\n",
    "# r, a1, a2, b1, b2 = [pinn_out['trainable'][\"problem\"][key] for key in ('r', 'a1', 'a2', 'b1', 'b2')]\n",
    "# print(r, a1, a2, b1, b2)\n",
    "r, a1, a2, b1, b2 = [all_params['static'][\"problem\"][key] for key in ('r_true', 'a1_true', 'a2_true', 'b1_true', 'b2_true')]\n",
    "print(r, a1, a2, b1, b2)"
   ]
  },
  {
   "cell_type": "code",
   "execution_count": 24,
   "metadata": {},
   "outputs": [
    {
     "name": "stdout",
     "output_type": "stream",
     "text": [
      "[INFO] 2024-04-29 10:13:40 - Loading model from:\n",
      "results/models/test/model_00050000.jax\n"
     ]
    }
   ],
   "source": [
    "from plot import load_FBPINN, load_PINN, exact_solution\n",
    "from fbpinns.analysis import load_model\n",
    "\n",
    "run = \"test\"\n",
    "c, model = load_model(run, rootdir=\"results/\")"
   ]
  },
  {
   "cell_type": "code",
   "execution_count": 25,
   "metadata": {},
   "outputs": [
    {
     "ename": "ValueError",
     "evalue": "not enough values to unpack (expected 5, got 4)",
     "output_type": "error",
     "traceback": [
      "\u001b[1;31m---------------------------------------------------------------------------\u001b[0m",
      "\u001b[1;31mValueError\u001b[0m                                Traceback (most recent call last)",
      "Cell \u001b[1;32mIn[25], line 1\u001b[0m\n\u001b[1;32m----> 1\u001b[0m i, all_params, all_opt_states, active, u_test_losses \u001b[38;5;241m=\u001b[39m model\n\u001b[0;32m      2\u001b[0m \u001b[38;5;28mprint\u001b[39m(c)\n",
      "\u001b[1;31mValueError\u001b[0m: not enough values to unpack (expected 5, got 4)"
     ]
    }
   ],
   "source": [
    "i, all_params, all_opt_states, active, u_test_losses = model\n",
    "print(c)"
   ]
  },
  {
   "cell_type": "code",
   "execution_count": null,
   "metadata": {},
   "outputs": [],
   "source": [
    "i, all_params, all_opt_states, active, u_test_losses = model\n",
    "i"
   ]
  },
  {
   "cell_type": "code",
   "execution_count": null,
   "metadata": {},
   "outputs": [],
   "source": [
    "model[-1]"
   ]
  },
  {
   "cell_type": "code",
   "execution_count": null,
   "metadata": {},
   "outputs": [],
   "source": [
    "i,t,l1n, loss = model[-1][:,0], model[-1][:,3], model[-1][:,-1], model[-1][:,4]\n",
    "first, second = model[-1][:,1], model[-1][:, 2]\n",
    "import matplotlib.pyplot as plt\n",
    "# plt.plot(i, l1n, label=\"l1 loss\")\n",
    "# plt.plot(i, loss, label=\"loss\")\n",
    "# plt.plot(i, first, label=\"first\")\n",
    "#plt.plot(i, second, label=\"second\")\n",
    "plt.plot(i, t, label=\"t\")\n",
    "plt.legend()"
   ]
  },
  {
   "cell_type": "code",
   "execution_count": null,
   "metadata": {},
   "outputs": [],
   "source": [
    "path = \"results/summaries/test/\"\n",
    "\n",
    "path\n"
   ]
  },
  {
   "cell_type": "code",
   "execution_count": null,
   "metadata": {},
   "outputs": [],
   "source": [
    "file_path = os.path.join(path, \"params.csv\")\n",
    "\n",
    "import pandas as pd\n",
    "import os\n",
    "from problems import SaturatedGrowthModel\n",
    "\n",
    "def export_parameters(c, model, file_path=None):\n",
    "    all_params = model[1]  \n",
    "    if c.problem==CompetitionModel:\n",
    "        true_keys = ('r_true', 'a1_true', 'a2_true', 'b1_true', 'b2_true')\n",
    "        learned_keys = ('r', 'a1', 'a2', 'b1', 'b2')\n",
    "        true_params = [float(all_params['static'][\"problem\"][key]) for key in true_keys]\n",
    "        learned_params = [float(all_params['trainable'][\"problem\"][key]) for key in learned_keys]\n",
    "        data = {\n",
    "            'Parameter': ['r', 'a1', 'a2', 'b1', 'b2'],\n",
    "            'True': true_params,\n",
    "            'Learned': learned_params\n",
    "        }\n",
    "    elif c.problem==SaturatedGrowthModel:\n",
    "        true_params = [float(all_params['static']['problem']['C_true'])]\n",
    "        learned_params = [float(all_params['trainable']['problem']['C'])]\n",
    "        data = {\n",
    "            'Parameter': ['C'],\n",
    "            'True': true_params,\n",
    "            'Learned': learned_params\n",
    "        }\n",
    "    else:\n",
    "        raise ValueError(\"Unsupported problem type.\")\n",
    "\n",
    "    # Create DataFrame and save to CSV\n",
    "    parameters_df = pd.DataFrame(data)\n",
    "    if file_path is not None:\n",
    "        parameters_df.to_csv(file_path, index=False)\n",
    "    else:\n",
    "        parameters_df.to_csv('parameters.csv', index=False)\n",
    "\n",
    "export_parameters(c, model, file_path)"
   ]
  },
  {
   "cell_type": "code",
   "execution_count": null,
   "metadata": {},
   "outputs": [],
   "source": []
  },
  {
   "cell_type": "code",
   "execution_count": null,
   "metadata": {},
   "outputs": [],
   "source": [
    "all_params['static']['problem']"
   ]
  },
  {
   "cell_type": "code",
   "execution_count": null,
   "metadata": {},
   "outputs": [],
   "source": [
    "import matplotlib.pyplot as plt\n",
    "plt.plot(model[-1][:,0], model[-1][:,-1])"
   ]
  },
  {
   "cell_type": "code",
   "execution_count": 26,
   "metadata": {},
   "outputs": [
    {
     "ename": "KeyError",
     "evalue": "'decomposition'",
     "output_type": "error",
     "traceback": [
      "\u001b[1;31m---------------------------------------------------------------------------\u001b[0m",
      "\u001b[1;31mKeyError\u001b[0m                                  Traceback (most recent call last)",
      "Cell \u001b[1;32mIn[26], line 5\u001b[0m\n\u001b[0;32m      3\u001b[0m x_batch \u001b[38;5;241m=\u001b[39m domain\u001b[38;5;241m.\u001b[39msample_interior(all_params\u001b[38;5;241m=\u001b[39mall_params, key\u001b[38;5;241m=\u001b[39m\u001b[38;5;28;01mNone\u001b[39;00m, sampler\u001b[38;5;241m=\u001b[39m\u001b[38;5;124m\"\u001b[39m\u001b[38;5;124mgrid\u001b[39m\u001b[38;5;124m\"\u001b[39m, batch_shape\u001b[38;5;241m=\u001b[39mc\u001b[38;5;241m.\u001b[39mn_test)\n\u001b[0;32m      4\u001b[0m u_exact \u001b[38;5;241m=\u001b[39m problem\u001b[38;5;241m.\u001b[39mexact_solution(all_params, x_batch, batch_shape\u001b[38;5;241m=\u001b[39mc\u001b[38;5;241m.\u001b[39mn_test)\n\u001b[1;32m----> 5\u001b[0m u_test \u001b[38;5;241m=\u001b[39m \u001b[43mFBPINN_solution\u001b[49m\u001b[43m(\u001b[49m\u001b[43mc\u001b[49m\u001b[43m,\u001b[49m\u001b[43m \u001b[49m\u001b[43mall_params\u001b[49m\u001b[43m,\u001b[49m\u001b[43m \u001b[49m\u001b[43mactive\u001b[49m\u001b[43m,\u001b[49m\u001b[43m \u001b[49m\u001b[43mx_batch\u001b[49m\u001b[43m)\u001b[49m\n",
      "File \u001b[1;32mc:\\Users\\tirth\\Documents\\Git Code\\MasterThesis\\src\\FBPINNs\\fbpinns\\analysis.py:54\u001b[0m, in \u001b[0;36mFBPINN_solution\u001b[1;34m(c, all_params, active, x_batch)\u001b[0m\n\u001b[0;32m     52\u001b[0m problem, decomposition, network \u001b[38;5;241m=\u001b[39m c\u001b[38;5;241m.\u001b[39mproblem, c\u001b[38;5;241m.\u001b[39mdecomposition, c\u001b[38;5;241m.\u001b[39mnetwork\n\u001b[0;32m     53\u001b[0m model_fns \u001b[38;5;241m=\u001b[39m (decomposition\u001b[38;5;241m.\u001b[39mnorm_fn, network\u001b[38;5;241m.\u001b[39mnetwork_fn, decomposition\u001b[38;5;241m.\u001b[39munnorm_fn, decomposition\u001b[38;5;241m.\u001b[39mwindow_fn, problem\u001b[38;5;241m.\u001b[39mconstraining_fn)\n\u001b[1;32m---> 54\u001b[0m takes, _, (_, _, _, cut_all, _) \u001b[38;5;241m=\u001b[39m \u001b[43mget_inputs\u001b[49m\u001b[43m(\u001b[49m\u001b[43mx_batch\u001b[49m\u001b[43m,\u001b[49m\u001b[43m \u001b[49m\u001b[43mactive\u001b[49m\u001b[43m,\u001b[49m\u001b[43m \u001b[49m\u001b[43mall_params\u001b[49m\u001b[43m,\u001b[49m\u001b[43m \u001b[49m\u001b[43mdecomposition\u001b[49m\u001b[43m)\u001b[49m\n\u001b[0;32m     55\u001b[0m all_params_cut \u001b[38;5;241m=\u001b[39m {\u001b[38;5;124m\"\u001b[39m\u001b[38;5;124mstatic\u001b[39m\u001b[38;5;124m\"\u001b[39m:cut_all(all_params[\u001b[38;5;124m\"\u001b[39m\u001b[38;5;124mstatic\u001b[39m\u001b[38;5;124m\"\u001b[39m]),\n\u001b[0;32m     56\u001b[0m                   \u001b[38;5;124m\"\u001b[39m\u001b[38;5;124mtrainable\u001b[39m\u001b[38;5;124m\"\u001b[39m:cut_all(all_params[\u001b[38;5;124m\"\u001b[39m\u001b[38;5;124mtrainable\u001b[39m\u001b[38;5;124m\"\u001b[39m])}\n\u001b[0;32m     57\u001b[0m u, \u001b[38;5;241m*\u001b[39m_ \u001b[38;5;241m=\u001b[39m FBPINN_model(all_params_cut, x_batch, takes, model_fns)\n",
      "File \u001b[1;32mc:\\Users\\tirth\\Documents\\Git Code\\MasterThesis\\src\\FBPINNs\\fbpinns\\trainers.py:336\u001b[0m, in \u001b[0;36mget_inputs\u001b[1;34m(x_batch, active, all_params, decomposition)\u001b[0m\n\u001b[0;32m    333\u001b[0m \u001b[38;5;124m\"\u001b[39m\u001b[38;5;124mGet the inputs to the FBPINN model based on x_batch and the active models\u001b[39m\u001b[38;5;124m\"\u001b[39m\n\u001b[0;32m    335\u001b[0m \u001b[38;5;66;03m# get the ims inside x_batch\u001b[39;00m\n\u001b[1;32m--> 336\u001b[0m n_take, m_take, training_ims \u001b[38;5;241m=\u001b[39m \u001b[43mdecomposition\u001b[49m\u001b[38;5;241;43m.\u001b[39;49m\u001b[43minside_points\u001b[49m\u001b[43m(\u001b[49m\u001b[43mall_params\u001b[49m\u001b[43m,\u001b[49m\u001b[43m \u001b[49m\u001b[43mx_batch\u001b[49m\u001b[43m)\u001b[49m\u001b[38;5;66;03m# (nc, m)\u001b[39;00m\n\u001b[0;32m    338\u001b[0m \u001b[38;5;66;03m# get active_ims and fixed_ims\u001b[39;00m\n\u001b[0;32m    339\u001b[0m \u001b[38;5;66;03m# scheduler should return\u001b[39;00m\n\u001b[0;32m    340\u001b[0m \u001b[38;5;66;03m# 0 = inactive (but still trained if it intersects with active models)\u001b[39;00m\n\u001b[1;32m   (...)\u001b[0m\n\u001b[0;32m    345\u001b[0m \u001b[38;5;66;03m# 1 = active\u001b[39;00m\n\u001b[0;32m    346\u001b[0m \u001b[38;5;66;03m# 2 = fixed\u001b[39;00m\n\u001b[0;32m    347\u001b[0m active \u001b[38;5;241m=\u001b[39m jnp\u001b[38;5;241m.\u001b[39marray(active)\u001b[38;5;241m.\u001b[39mcopy()\n",
      "File \u001b[1;32mc:\\Users\\tirth\\Documents\\Git Code\\MasterThesis\\src\\FBPINNs\\fbpinns\\decompositions.py:202\u001b[0m, in \u001b[0;36mRectangularDecompositionND.inside_points\u001b[1;34m(all_params, x_batch)\u001b[0m\n\u001b[0;32m    200\u001b[0m \u001b[38;5;129m@staticmethod\u001b[39m\n\u001b[0;32m    201\u001b[0m \u001b[38;5;28;01mdef\u001b[39;00m \u001b[38;5;21minside_points\u001b[39m(all_params, x_batch):\n\u001b[1;32m--> 202\u001b[0m     m \u001b[38;5;241m=\u001b[39m \u001b[43mall_params\u001b[49m\u001b[43m[\u001b[49m\u001b[38;5;124;43m\"\u001b[39;49m\u001b[38;5;124;43mstatic\u001b[39;49m\u001b[38;5;124;43m\"\u001b[39;49m\u001b[43m]\u001b[49m\u001b[43m[\u001b[49m\u001b[38;5;124;43m\"\u001b[39;49m\u001b[38;5;124;43mdecomposition\u001b[39;49m\u001b[38;5;124;43m\"\u001b[39;49m\u001b[43m]\u001b[49m[\u001b[38;5;124m\"\u001b[39m\u001b[38;5;124mm\u001b[39m\u001b[38;5;124m\"\u001b[39m]\n\u001b[0;32m    203\u001b[0m     ims \u001b[38;5;241m=\u001b[39m jnp\u001b[38;5;241m.\u001b[39marange(m)\n\u001b[0;32m    204\u001b[0m     batch_size \u001b[38;5;241m=\u001b[39m \u001b[38;5;28mmin\u001b[39m(\u001b[38;5;28mint\u001b[39m(\u001b[38;5;241m1e9\u001b[39m\u001b[38;5;241m/\u001b[39m(\u001b[38;5;241m4\u001b[39m\u001b[38;5;241m*\u001b[39mims\u001b[38;5;241m.\u001b[39mshape[\u001b[38;5;241m0\u001b[39m])), x_batch\u001b[38;5;241m.\u001b[39mshape[\u001b[38;5;241m0\u001b[39m])\u001b[38;5;66;03m# limit GPU memory\u001b[39;00m\n",
      "\u001b[1;31mKeyError\u001b[0m: 'decomposition'"
     ]
    }
   ],
   "source": [
    "from fbpinns.analysis import FBPINN_solution, PINN_solution\n",
    "all_params, domain, problem, active = model[1], c.domain, c.problem, model[3]\n",
    "x_batch = domain.sample_interior(all_params=all_params, key=None, sampler=\"grid\", batch_shape=c.n_test)\n",
    "u_exact = problem.exact_solution(all_params, x_batch, batch_shape=c.n_test)\n",
    "u_test = FBPINN_solution(c, all_params, active, x_batch)"
   ]
  },
  {
   "cell_type": "code",
   "execution_count": null,
   "metadata": {},
   "outputs": [],
   "source": [
    "u_learned = problem.learned_solution(all_params, x_batch.reshape(-1))"
   ]
  },
  {
   "cell_type": "code",
   "execution_count": null,
   "metadata": {},
   "outputs": [],
   "source": [
    "print(np.mean((u_exact - u_test)**2))\n",
    "print(np.mean((u_exact - u_learned)**2))"
   ]
  },
  {
   "cell_type": "code",
   "execution_count": null,
   "metadata": {},
   "outputs": [],
   "source": [
    "plt.plot(x_batch, u_exact[:,0])\n",
    "plt.plot(x_batch, u_exact[:,1])\n",
    "\n",
    "plt.plot(x_batch, u_test[:,0])\n",
    "plt.plot(x_batch, u_test[:,1])\n",
    "plt.plot(x_batch, u_learned[:,0])\n",
    "plt.plot(x_batch, u_learned[:,1])"
   ]
  },
  {
   "cell_type": "code",
   "execution_count": null,
   "metadata": {},
   "outputs": [],
   "source": [
    "all_params['static']['domain'].keys()"
   ]
  },
  {
   "cell_type": "markdown",
   "metadata": {},
   "source": [
    "Decompositon test"
   ]
  },
  {
   "cell_type": "code",
   "execution_count": null,
   "metadata": {},
   "outputs": [],
   "source": [
    "\n",
    "from fbpinns.decompositions import RectangularDecompositionND\n",
    "from fbpinns.constants import get_subdomain_ws\n",
    "\n",
    "decomposition = RectangularDecompositionND # use a rectangular domain decomposition\n",
    "\n",
    "w = 1.1\n",
    "subdomain_xs = [np.array([4., 12., 20.])]\n",
    "subdomain_ws = get_subdomain_ws(subdomain_xs, w)\n",
    "unnorm = (0., 1.)\n",
    "decomposition_init_kwargs = dict(\n",
    "    subdomain_xs = subdomain_xs,\n",
    "    # subdomain_ws = [(24/1.8)*np.ones((2,))],\n",
    "    subdomain_ws = get_subdomain_ws(subdomain_xs, w),\n",
    "    unnorm = (0., 1.),\n",
    ")\n",
    "decomposition_init_kwargs\n"
   ]
  },
  {
   "cell_type": "code",
   "execution_count": null,
   "metadata": {},
   "outputs": [],
   "source": [
    "subdomain_xs\n",
    "nm = tuple([len(x) for x in subdomain_xs])\n",
    "print(f\"nm={nm}\")\n",
    "m = np.prod(nm)\n",
    "print(f\"m={m}\")\n",
    "xd = len(subdomain_xs)\n",
    "print(f\"xd={xd}\")"
   ]
  },
  {
   "cell_type": "code",
   "execution_count": null,
   "metadata": {},
   "outputs": [],
   "source": [
    "ps = RectangularDecompositionND._get_level_params(0, xd, subdomain_xs, subdomain_ws, unnorm)\n",
    "print(f\"ps={ps}\")"
   ]
  },
  {
   "cell_type": "code",
   "execution_count": null,
   "metadata": {},
   "outputs": [],
   "source": [
    "xmins0, xmaxs0 = (ps[0]+ps[2]/2), (ps[1]-ps[3]/2)\n",
    "print(xmins0, xmaxs0)"
   ]
  },
  {
   "cell_type": "code",
   "execution_count": null,
   "metadata": {},
   "outputs": [],
   "source": [
    "from jax import vmap, tree_map\n",
    "params = tree_map(lambda x: jnp.array(x), ps)\n",
    "static_params = {\n",
    "            \"m\":m,\n",
    "            \"xd\":xd,\n",
    "            \"subdomain\":{\"params\":params[:-1],# use special key for subdomain parameters\n",
    "                         \"pou\":params[-1]},\n",
    "            \"xmins0\":xmins0,\n",
    "            \"xmaxs0\":xmaxs0,\n",
    "            }\n",
    "static_params"
   ]
  },
  {
   "cell_type": "code",
   "execution_count": null,
   "metadata": {},
   "outputs": [],
   "source": [
    "#1D test\n",
    "subdomain_xs = [np.linspace(-3,3,4),]\n",
    "subdomain_ws = [3*np.ones(4),]\n",
    "\n",
    "decomposition = RectangularDecompositionND\n",
    "ps_ = decomposition.init_params(subdomain_xs, subdomain_ws, (0,1))\n",
    "all_params = {\"static\":{\"decomposition\":ps_[0]}, \"trainable\":{\"decomposition\":ps_[1]}}\n",
    "m = all_params[\"static\"][\"decomposition\"][\"m\"]\n",
    "active = np.ones(m)\n",
    "\n",
    "active[1] = 0\n",
    "active[2] = 2\n",
    "print(subdomain_xs, subdomain_ws, ps_ , all_params, m, active)"
   ]
  },
  {
   "cell_type": "code",
   "execution_count": null,
   "metadata": {},
   "outputs": [],
   "source": [
    "decomposition.plot(all_params, active=active, show_norm=True, show_window=True)"
   ]
  },
  {
   "cell_type": "code",
   "execution_count": null,
   "metadata": {},
   "outputs": [],
   "source": [
    "x_batch = np.array([[-2],\n",
    "                        [1],\n",
    "                        [3],\n",
    "                        [4.7]])\n",
    "for x in x_batch:\n",
    "    plt.scatter(x[0], 0.5)\n",
    "plt.show()\n",
    "print(decomposition.inside_models(all_params, x_batch, np.arange(m)))\n",
    "print(decomposition.inside_points(all_params, x_batch))"
   ]
  },
  {
   "cell_type": "code",
   "execution_count": null,
   "metadata": {},
   "outputs": [],
   "source": [
    "subdomain_xs = [np.array([0])]\n",
    "subdomain_ws = [np.array([1])]\n",
    "\n",
    "decomposition = RectangularDecompositionND\n",
    "ps_ = decomposition.init_params(subdomain_xs, subdomain_ws, (0,1))\n",
    "all_params = {\"static\":{\"decomposition\":ps_[0]}, \"trainable\":{\"decomposition\":ps_[1]}}\n",
    "\n",
    "decomposition.plot(all_params)\n",
    "plt.show()\n"
   ]
  },
  {
   "cell_type": "markdown",
   "metadata": {},
   "source": [
    "### Create custom domain Decomposition"
   ]
  },
  {
   "cell_type": "code",
   "execution_count": null,
   "metadata": {},
   "outputs": [],
   "source": [
    "t_end, t_begin = 24, 0\n",
    "time_limit = [10, 20]\n",
    "num_subdomain = 2\n",
    "ww = 1.1\n"
   ]
  },
  {
   "cell_type": "code",
   "execution_count": 27,
   "metadata": {},
   "outputs": [
    {
     "ename": "NameError",
     "evalue": "name 'time_limit' is not defined",
     "output_type": "error",
     "traceback": [
      "\u001b[1;31m---------------------------------------------------------------------------\u001b[0m",
      "\u001b[1;31mNameError\u001b[0m                                 Traceback (most recent call last)",
      "Cell \u001b[1;32mIn[27], line 1\u001b[0m\n\u001b[1;32m----> 1\u001b[0m data_start, data_end \u001b[38;5;241m=\u001b[39m \u001b[43mtime_limit\u001b[49m\n\u001b[0;32m      2\u001b[0m subdomains \u001b[38;5;241m=\u001b[39m []\n\u001b[0;32m      3\u001b[0m centers \u001b[38;5;241m=\u001b[39m []\n",
      "\u001b[1;31mNameError\u001b[0m: name 'time_limit' is not defined"
     ]
    }
   ],
   "source": [
    "data_start, data_end = time_limit\n",
    "subdomains = []\n",
    "centers = []\n",
    "\n",
    "# Determine if there are valid no-data regions\n",
    "has_no_data_at_start = data_start > t_begin\n",
    "has_no_data_at_end = data_end < t_end\n",
    "\n",
    "# Handle no-data region at the start\n",
    "\n",
    "if has_no_data_at_start:\n",
    "    subdomains.append((t_begin, data_start))\n",
    "    centers.append((t_begin + data_start) / 2)\n",
    "\n",
    "# Handle no-data region at the end\n",
    "if has_no_data_at_end:\n",
    "    subdomains.append((data_end, t_end))\n",
    "    centers.append((data_end + t_end) / 2)\n",
    "\n",
    "# Calculate remaining subdomains\n",
    "remaining_subdomains = num_subdomain - len(subdomains)\n",
    "\n",
    "# Divide the data region into subdomains, if there are remaining subdomains to allocate\n",
    "if remaining_subdomains > 0:\n",
    "    # Calculate length of each subdomain within the data region\n",
    "    each_subdomain_length = (data_end - data_start) / remaining_subdomains\n",
    "    for i in range(remaining_subdomains):\n",
    "        start = data_start + i * each_subdomain_length\n",
    "        end = start + each_subdomain_length\n",
    "        # Adjust for overlapping if necessary, and avoid exceeding domain limits\n",
    "        # if i != 0:  # Overlap, except for the first subdomain\n",
    "        #     start -= ww\n",
    "        subdomains.append((start, end))\n",
    "        centers.append((start + end) / 2)\n",
    "else:\n",
    "    # If no remaining subdomains, consider the entire data region as one subdomain\n",
    "    subdomains.append((data_start, data_end))\n",
    "    centers.append((data_start + data_end) / 2)\n",
    "\n",
    "subdomain_xs = [np.array(np.sort(centers))]\n",
    "subdomain_ws = [np.array([np.diff(sub)*ww for _, sub in sorted(zip(centers, subdomains))]).flatten()]\n",
    "print(subdomain_ws, subdomain_xs)"
   ]
  },
  {
   "cell_type": "code",
   "execution_count": null,
   "metadata": {},
   "outputs": [],
   "source": [
    "from fbpinns.decompositions import RectangularDecompositionND\n",
    "from fbpinns.constants import get_subdomain_ws\n",
    "\n",
    "decomposition = RectangularDecompositionND # use a rectangular domain decomposition\n",
    "\n",
    "#subdomain_xs = [np.linspace(0,24,3)]\n",
    "decomposition_init_kwargs = dict(\n",
    "    subdomain_xs = subdomain_xs,\n",
    "    # subdomain_ws = [(24/1.8)*np.ones((2,))],\n",
    "    # subdomain_ws = get_subdomain_ws(subdomain_xs, w),\n",
    "    subdomain_ws = subdomain_ws,\n",
    "    unnorm = (0., 1.),\n",
    ")\n",
    "decomposition_init_kwargs"
   ]
  },
  {
   "cell_type": "code",
   "execution_count": null,
   "metadata": {},
   "outputs": [],
   "source": [
    "decomposition = RectangularDecompositionND\n",
    "ps_ = decomposition.init_params(subdomain_xs, subdomain_ws, (0,1))\n",
    "all_params = {\"static\":{\"decomposition\":ps_[0]}, \"trainable\":{\"decomposition\":ps_[1]}}\n",
    "m = all_params[\"static\"][\"decomposition\"][\"m\"]\n",
    "active = np.ones(m)\n",
    "active[0] = 0\n",
    "f = decomposition.plot(all_params, active=active, show_norm=True, show_window=True, create_fig=True)"
   ]
  },
  {
   "cell_type": "code",
   "execution_count": null,
   "metadata": {},
   "outputs": [],
   "source": [
    "from IPython.display import display\n",
    "f.suptitle(f\"time_limit:{time_limit}\")\n",
    "display(f)\n"
   ]
  },
  {
   "cell_type": "code",
   "execution_count": null,
   "metadata": {},
   "outputs": [],
   "source": [
    "\n",
    "def get_subdomain_ws(subdomain_xs, width):\n",
    "    return [width*np.min(np.diff(x))*np.ones_like(x) for x in subdomain_xs]\n",
    "subdomain_xs"
   ]
  },
  {
   "cell_type": "code",
   "execution_count": null,
   "metadata": {},
   "outputs": [],
   "source": [
    "[np.min(np.diff(x))*np.ones_like(x) for x in subdomain_xs]"
   ]
  },
  {
   "cell_type": "code",
   "execution_count": null,
   "metadata": {},
   "outputs": [],
   "source": [
    "x_batch_data = jnp.linspace(0, 24, 50).astype(float).reshape((-1,1))\n",
    "r_true, a1_true, a2_true, b1_true, b2_true = [all_params['static'][\"problem\"][key] for key in ('r_true', 'a1_true', 'a2_true', 'b1_true', 'b2_true')]\n",
    "params = (r_true, a1_true, a2_true, b1_true, b2_true)\n",
    "solution = odeint(CompetitionModel.model, [2,1], x_batch_data.reshape((-1,)), args=(params,))"
   ]
  },
  {
   "cell_type": "code",
   "execution_count": null,
   "metadata": {},
   "outputs": [],
   "source": [
    "import matplotlib.pyplot as plt\n",
    "plt.scatter(x_batch_data, solution[:,0:1])\n",
    "plt.scatter(x_batch_data, solution[:,1:2])"
   ]
  },
  {
   "cell_type": "markdown",
   "metadata": {},
   "source": [
    "Sampler 101"
   ]
  },
  {
   "cell_type": "code",
   "execution_count": 36,
   "metadata": {},
   "outputs": [
    {
     "name": "stderr",
     "output_type": "stream",
     "text": [
      "c:\\Users\\tirth\\anaconda3\\envs\\fbpinns2\\Lib\\site-packages\\scipy\\stats\\_qmc.py:958: UserWarning: The balance properties of Sobol' points require n to be a power of 2.\n",
      "  sample = self._random(n, workers=workers)\n"
     ]
    },
    {
     "data": {
      "image/png": "[encoded data removed]",
      "text/plain": [
       "<Figure size 640x480 with 1 Axes>"
      ]
     },
     "metadata": {},
     "output_type": "display_data"
    }
   ],
   "source": [
    "import scipy.stats\n",
    "import jax\n",
    "from jax import random\n",
    "import jax.numpy as jnp\n",
    "import numpy as np\n",
    "import matplotlib.pyplot as plt\n",
    "\n",
    "def get_sampling(sampler=\"grid\"):\n",
    "    xd = 1\n",
    "    xmin = 0\n",
    "    xmax = 24\n",
    "    batch_shape = 25\n",
    "    key = random.PRNGKey(0)\n",
    "\n",
    "    if sampler == \"grid\":\n",
    "        x_batch = jnp.linspace(xmin, xmax, batch_shape).reshape((-1, xd))\n",
    "    else:\n",
    "        if sampler == \"halton\":\n",
    "            r = scipy.stats.qmc.Halton(d=xd, scramble=False)\n",
    "            s = r.random(n=batch_shape)\n",
    "        elif sampler == \"sobol\":\n",
    "            r = scipy.stats.qmc.Sobol(d=xd, scramble=False)\n",
    "            s = r.random(n=batch_shape)\n",
    "        elif sampler == \"uniform\":\n",
    "            s = random.uniform(key, (batch_shape, xd))\n",
    "\n",
    "        x_batch = xmin + (xmax - xmin) * s\n",
    "\n",
    "    return jnp.array(x_batch)\n",
    "\n",
    "x_grid = get_sampling(sampler='grid')\n",
    "x_halton = get_sampling(sampler='halton')\n",
    "x_sobol = get_sampling(sampler='sobol')\n",
    "x_uniform = get_sampling('uniform')\n",
    "\n",
    "plt.scatter(x_sobol, np.ones_like(x_grid)+1.5, marker='*', label='sobol')\n",
    "plt.scatter(x_halton,  np.ones_like(x_grid)+1, marker='o', label='halton')\n",
    "plt.scatter(x_uniform,  np.ones_like(x_grid)+0.5, marker='x', label='uniform')\n",
    "plt.scatter(x_grid, np.ones_like(x_grid), marker='d', label='grid')\n",
    "\n",
    "\n",
    "plt.yticks([])  # Hide y-axis ticks\n",
    "# set y label as Time\n",
    "plt.xlabel(\"Time\")\n",
    "plt.gca().axes.get_yaxis().set_visible(False)  # Optionally, make y-axis completely invisible\n",
    "plt.legend()\n",
    "plt.savefig(\"sampling.png\")\n",
    "plt.show()"
   ]
  },
  {
   "cell_type": "code",
   "execution_count": null,
   "metadata": {},
   "outputs": [],
   "source": [
    "def model(y, t, params):\n",
    "        \"\"\"\n",
    "        Compute the derivatives of the system at time t.\n",
    "        \n",
    "        :param y: Current state of the system [u, v].\n",
    "        :param t: Current time.\n",
    "        :param params: Parameters of the model (a1, a2, b1, b2, r).\n",
    "        :return: Derivatives [du/dt, dv/dt].\n",
    "        \"\"\"\n",
    "        u, v = y  \n",
    "        r, a1, a2, b1, b2 = params  \n",
    "        \n",
    "        # Define the equations\n",
    "        du_dt = u * (1 - a1 * u - a2 * v)\n",
    "        dv_dt = r * v * (1 - b1 * u - b2 * v)\n",
    "        \n",
    "        return [du_dt, dv_dt]\n",
    "\n",
    "def solve_ode(initial_conditions, t_span):\n",
    "        \"\"\"\n",
    "        Solves the ODE using scipy's ````odeint````.\n",
    "        \"\"\"\n",
    "        solution = odeint(model, initial_conditions, t_span)\n",
    "        return t_span, solution\n",
    "u0 = 2\n",
    "v0= 1\n",
    "params = [0.5, 0.7, 0.3, 0.3, 0.6]\n",
    "t = np.arange(0, t_end+.0001, 0.0002)\n",
    "solution = odeint(model, [u0,v0], t, args=(params,))\n",
    "solution.shape"
   ]
  },
  {
   "cell_type": "code",
   "execution_count": null,
   "metadata": {},
   "outputs": [],
   "source": [
    "t_test  = np.linspace(10,24,50)\n",
    "u_interp = interp1d(t, solution[:, 0], kind='slinear')\n",
    "v_interp = interp1d(t, solution[:, 1], kind='slinear')"
   ]
  },
  {
   "cell_type": "code",
   "execution_count": null,
   "metadata": {},
   "outputs": [],
   "source": [
    "u_data = u_interp(t_test.flatten())"
   ]
  },
  {
   "cell_type": "code",
   "execution_count": null,
   "metadata": {},
   "outputs": [],
   "source": [
    "u_data"
   ]
  },
  {
   "cell_type": "code",
   "execution_count": null,
   "metadata": {},
   "outputs": [],
   "source": [
    "plt.plot(t_test, u_data, label=\"test\")\n",
    "plt.plot(t, solution[:,0], label='true')\n",
    "plt.legend()"
   ]
  },
  {
   "cell_type": "code",
   "execution_count": null,
   "metadata": {},
   "outputs": [],
   "source": [
    "sol = odeint(model, [u0,v0], t_test, args=(params,))\n",
    "plt.plot(t_test, sol[:,0], label=\"u\")\n",
    "plt.plot(t_test, sol[:,1], label=\"v\")\n",
    "plt.legend()\n",
    "plt.xlim(0,24)\n",
    "plt.ylim(0,2.5)\n",
    "plt.show()\n"
   ]
  },
  {
   "cell_type": "code",
   "execution_count": null,
   "metadata": {},
   "outputs": [],
   "source": []
  }
 ],
 "metadata": {
  "kernelspec": {
   "display_name": "fbpinns",
   "language": "python",
   "name": "python3"
  },
  "language_info": {
   "codemirror_mode": {
    "name": "ipython",
    "version": 3
   },
   "file_extension": ".py",
   "mimetype": "text/x-python",
   "name": "python",
   "nbconvert_exporter": "python",
   "pygments_lexer": "ipython3",
   "version": "3.11.7"
  }
 },
 "nbformat": 4,
 "nbformat_minor": 2
}
